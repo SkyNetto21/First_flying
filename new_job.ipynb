{
  "nbformat": 4,
  "nbformat_minor": 0,
  "metadata": {
    "colab": {
      "provenance": [],
      "authorship_tag": "ABX9TyO+uyf5thWHFgYlT4mK3qao",
      "include_colab_link": true
    },
    "kernelspec": {
      "name": "python3",
      "display_name": "Python 3"
    },
    "language_info": {
      "name": "python"
    }
  },
  "cells": [
    {
      "cell_type": "markdown",
      "metadata": {
        "id": "view-in-github",
        "colab_type": "text"
      },
      "source": [
        "<a href=\"https://colab.research.google.com/github/SkyNetto21/First_flying/blob/main/new_job.ipynb\" target=\"_parent\"><img src=\"https://colab.research.google.com/assets/colab-badge.svg\" alt=\"Open In Colab\"/></a>"
      ]
    },
    {
      "cell_type": "code",
      "source": [
        "!pip install -q -U google-generativeai"
      ],
      "metadata": {
        "id": "d7WOtN_LxB35"
      },
      "execution_count": 1,
      "outputs": []
    },
    {
      "cell_type": "code",
      "source": [
        "import google.generativeai as genai\n",
        "from google.colab import userdata\n",
        "api_key=userdata.get('secret_Name')\n",
        "genai.configure(api_key=api_key)"
      ],
      "metadata": {
        "id": "zCBX_Il2ywhU"
      },
      "execution_count": 2,
      "outputs": []
    },
    {
      "cell_type": "code",
      "source": [
        "model = genai.GenerativeModel('gemini-pro')"
      ],
      "metadata": {
        "id": "PcRIgwHu1WWQ"
      },
      "execution_count": 3,
      "outputs": []
    },
    {
      "cell_type": "code",
      "source": [
        "response = model.generate_content('learning abouth IA')\n",
        "print(response.text)"
      ],
      "metadata": {
        "id": "jSu4EKPr2BSi"
      },
      "execution_count": null,
      "outputs": []
    },
    {
      "cell_type": "code",
      "source": [
        "for m in genai.list_models():\n",
        "  if 'generateContent' in m.supported_generation_methods:\n",
        "    print(m.name)"
      ],
      "metadata": {
        "colab": {
          "base_uri": "https://localhost:8080/",
          "height": 139
        },
        "id": "gplF1rbxDvdS",
        "outputId": "a2dabbae-2d15-4e9c-a1b7-3e86ee088cde"
      },
      "execution_count": 5,
      "outputs": [
        {
          "output_type": "stream",
          "name": "stdout",
          "text": [
            "models/gemini-1.0-pro\n",
            "models/gemini-1.0-pro-001\n",
            "models/gemini-1.0-pro-latest\n",
            "models/gemini-1.0-pro-vision-latest\n",
            "models/gemini-1.5-pro-latest\n",
            "models/gemini-pro\n",
            "models/gemini-pro-vision\n"
          ]
        }
      ]
    },
    {
      "cell_type": "code",
      "source": [
        "chat = model.start_chat(history=[])"
      ],
      "metadata": {
        "id": "I7vZDc-mUjVw"
      },
      "execution_count": 6,
      "outputs": []
    },
    {
      "cell_type": "code",
      "source": [
        "prompt = input(\"Enter your prompt: \")\n",
        "while prompt != \"fim\":\n",
        "  response = chat.send_message(prompt)\n",
        "  print(\"Resposta: \", response.text, \"\\n\")\n",
        "  prompt = input(\"Enter your prompt: \")"
      ],
      "metadata": {
        "colab": {
          "base_uri": "https://localhost:8080/",
          "height": 972
        },
        "id": "LvJLgAAEW05i",
        "outputId": "ba8c683f-3d28-4ade-d96e-f3969b4b19c5"
      },
      "execution_count": 12,
      "outputs": [
        {
          "name": "stdout",
          "output_type": "stream",
          "text": [
            "Enter your prompt: como salvar este projeto no GitHub?\n",
            "Resposta:  **Como salvar um projeto no GitHub**\n",
            "\n",
            "**1. Crie uma conta do GitHub (se ainda não tiver uma)**\n",
            "\n",
            "* Acesse https://github.com/ e clique em \"Sign up\".\n",
            "\n",
            "**2. Crie um repositório**\n",
            "\n",
            "* Clique no botão \"New\" no canto superior direito da página inicial do GitHub.\n",
            "* Selecione \"Repository\" no menu suspenso.\n",
            "* Dê um nome ao repositório e uma descrição opcional.\n",
            "* Clique no botão \"Create repository\".\n",
            "\n",
            "**3. Clone o repositório para o seu computador**\n",
            "\n",
            "* Abra um terminal ou prompt de comando na pasta local onde deseja armazenar o projeto.\n",
            "* Execute o seguinte comando, substituindo `<username>` pelo seu nome de usuário do GitHub e `<repository-name>` pelo nome do repositório:\n",
            "\n",
            "```\n",
            "git clone https://github.com/<username>/<repository-name>.git\n",
            "```\n",
            "\n",
            "**4. Adicione os arquivos do projeto ao repositório**\n",
            "\n",
            "* Copie os arquivos do seu projeto para a pasta local que acabou de clonar.\n",
            "* No terminal ou prompt de comando, navegue até a pasta do projeto.\n",
            "\n",
            "**5. Adicione os arquivos ao staging**\n",
            "\n",
            "* Execute o seguinte comando para adicionar os arquivos alterações ao staging:\n",
            "\n",
            "```\n",
            "git add .\n",
            "```\n",
            "\n",
            "**6. Faça um commit das alterações**\n",
            "\n",
            "* Execute o seguinte comando para fazer um commit das alterações adicionadas ao staging:\n",
            "\n",
            "```\n",
            "git commit -m \"Mensagem de commit\"\n",
            "```\n",
            "\n",
            "**7. Envie o commit para o repositório remoto**\n",
            "\n",
            "* Execute o seguinte comando para enviar o commit para o repositório remoto no GitHub:\n",
            "\n",
            "```\n",
            "git push origin main\n",
            "```\n",
            "\n",
            "**Seu projeto agora está salvo no GitHub!** \n",
            "\n",
            "Enter your prompt: fim\n"
          ]
        }
      ]
    }
  ]
}