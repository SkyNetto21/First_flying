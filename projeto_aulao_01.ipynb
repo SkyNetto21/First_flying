{
  "nbformat": 4,
  "nbformat_minor": 0,
  "metadata": {
    "colab": {
      "provenance": [],
      "authorship_tag": "ABX9TyNN56N9cR4c4IOgYVGqPaoK",
      "include_colab_link": true
    },
    "kernelspec": {
      "name": "python3",
      "display_name": "Python 3"
    },
    "language_info": {
      "name": "python"
    }
  },
  "cells": [
    {
      "cell_type": "markdown",
      "metadata": {
        "id": "view-in-github",
        "colab_type": "text"
      },
      "source": [
        "<a href=\"https://colab.research.google.com/github/SkyNetto21/First_flying/blob/main/projeto_aulao_01.ipynb\" target=\"_parent\"><img src=\"https://colab.research.google.com/assets/colab-badge.svg\" alt=\"Open In Colab\"/></a>"
      ]
    },
    {
      "cell_type": "code",
      "execution_count": 3,
      "metadata": {
        "colab": {
          "base_uri": "https://localhost:8080/"
        },
        "id": "sZU3j8PZ1T5t",
        "outputId": "6d212a34-7bf9-4ab9-c615-6abde0daabe9"
      },
      "outputs": [
        {
          "output_type": "execute_result",
          "data": {
            "text/plain": [
              "43"
            ]
          },
          "metadata": {},
          "execution_count": 3
        }
      ],
      "source": [
        "import requests\n",
        "url = \"https://raw.githubusercontent.com/guilhermeonrails/api-imersao-ia/main/words.json\"\n",
        "resposta = requests.get(url)\n",
        "data = resposta.json()\n",
        "len(data)"
      ]
    },
    {
      "cell_type": "code",
      "source": [
        "data[0]"
      ],
      "metadata": {
        "colab": {
          "base_uri": "https://localhost:8080/"
        },
        "id": "t-p17MNQ7Mt5",
        "outputId": "833e0787-6c6c-4b72-dd25-b91d4b393283"
      },
      "execution_count": 4,
      "outputs": [
        {
          "output_type": "execute_result",
          "data": {
            "text/plain": [
              "{'palavra': 'python',\n",
              " 'dica': 'automatizar tarefas e desenvolver aplicações web.'}"
            ]
          },
          "metadata": {},
          "execution_count": 4
        }
      ]
    },
    {
      "cell_type": "code",
      "source": [
        "import random\n",
        "valor_secreto = random.choice(data)\n",
        "palavra_secreta = valor_secreto['palavra']\n",
        "dica = valor_secreto['dica']\n",
        "print(f'A palavra secreta tem {len(palavra_secreta)} letras')\n",
        "print (f'A dica é -> {dica}')\n",
        "chute = input('O que voce acha que é: ')\n",
        "if chute == palavra_secreta:\n",
        "    print('Você acertou!')\n",
        "else:\n",
        "    print(f'Você errou... a palavra secreta era {palavra_secreta}')"
      ],
      "metadata": {
        "colab": {
          "base_uri": "https://localhost:8080/"
        },
        "id": "C9zgLFPR8BCu",
        "outputId": "02bc5eee-7616-43dc-c063-05c00f4fcb6b"
      },
      "execution_count": 31,
      "outputs": [
        {
          "output_type": "stream",
          "name": "stdout",
          "text": [
            "A palavra secreta tem 6 letras\n",
            "A dica é -> empacotar, distribuir e executar aplicativos em contêineres.\n",
            "O que voce acha que é: docker\n",
            "Você acertou!\n"
          ]
        }
      ]
    }
  ]
}